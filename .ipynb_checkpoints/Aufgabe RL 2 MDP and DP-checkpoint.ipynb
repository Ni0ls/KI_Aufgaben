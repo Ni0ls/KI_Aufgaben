{
 "cells": [
  {
   "cell_type": "markdown",
   "id": "4abb81ed",
   "metadata": {},
   "source": [
    "# Aufgabe 2 Finite Markov Decision Process & Dynamic Programming\n",
    "## Task 3) \n",
    "    Suppose γ = 0.5 and the following sequence of rewards is received                                                             R1 = −1, R2 = 2, R3 = 6, R4 = 3, and R5 = 2, with T = 5. What are G0, G1, . . . , G5?"
   ]
  },
  {
   "cell_type": "code",
   "execution_count": 20,
   "id": "2bd24230",
   "metadata": {},
   "outputs": [
    {
     "name": "stdout",
     "output_type": "stream",
     "text": [
      "2.0 6.0 8.0 4.0 2.0 0\n"
     ]
    }
   ],
   "source": [
    "R1 = -1\n",
    "R2 = 2\n",
    "R3 = 6\n",
    "R4 = 3\n",
    "R5 = 2\n",
    "gamma = 0.5\n",
    "\n",
    "G5 = 0\n",
    "G4 = R5 + gamma*G5\n",
    "G3 = R4 + gamma*G4\n",
    "G2 = R3 + gamma*G3\n",
    "G1 = R2 + gamma*G2\n",
    "G0 = R1 + gamma*G1\n",
    "print(G0,G1,G2,G3,G4,G5) #korrekt"
   ]
  },
  {
   "cell_type": "markdown",
   "id": "91cc4ada",
   "metadata": {},
   "source": [
    "## Task 4)\n",
    "    User Iterative Policy Evaluation for estimating vπ given the following task and a policy picking a random action (left, right, up, down). The cells correspond to individual states. Actions that would take the agent off the grid → Agent stays at this state but reward = -1. All other cases reward=0, except any action from A brings the agents to A’ and a reward of +10 is given and any action from B brings the agents to B’ and a reward of +5 is given. \n",
    "    The discount rate is set to γ = 0.9."
   ]
  },
  {
   "cell_type": "markdown",
   "id": "0ca24dad",
   "metadata": {},
   "source": [
    "## a) use the in-place algorithm"
   ]
  },
  {
   "cell_type": "code",
   "execution_count": 10,
   "id": "104a8a0f",
   "metadata": {},
   "outputs": [
    {
     "name": "stdout",
     "output_type": "stream",
     "text": [
      "[[0. 0. 0. 0. 0.]\n",
      " [0. 0. 0. 0. 0.]\n",
      " [0. 0. 0. 0. 0.]\n",
      " [0. 0. 0. 0. 0.]\n",
      " [0. 0. 0. 0. 0.]]\n",
      "[[ 3.36248678  8.83465931  4.47150191  5.36317693  1.53395692]\n",
      " [ 1.57100098  3.03591059  2.29086393  1.94643698  0.58591221]\n",
      " [ 0.0987228   0.78069307  0.71260597  0.39602773 -0.36591309]\n",
      " [-0.92601545 -0.39332129 -0.3157776  -0.54811942 -1.14625484]\n",
      " [-1.81012954 -1.30313131 -1.19026029 -1.38552946 -1.93846733]]\n"
     ]
    },
    {
     "data": {
      "text/plain": [
       "[<matplotlib.lines.Line2D at 0x219eb086850>]"
      ]
     },
     "execution_count": 10,
     "metadata": {},
     "output_type": "execute_result"
    },
    {
     "data": {
      "image/png": "[encoded data removed]",
      "text/plain": [
       "<Figure size 432x288 with 1 Axes>"
      ]
     },
     "metadata": {
      "needs_background": "light"
     },
     "output_type": "display_data"
    }
   ],
   "source": [
    "import numpy as np\n",
    "import matplotlib.pyplot as plt\n",
    "\n",
    "N = 100\n",
    "Tetta = 0.01\n",
    "gamma = 0.9\n",
    "delta = 1000\n",
    "delta2 = np.zeros(16)\n",
    "\n",
    "#Init V(s) (25 differet states assigned as in Exercise paper sketch)\n",
    "V = np.zeros(25)\n",
    "\n",
    "#Init policy pi[s][p(action)] action = left top right bot\n",
    "pi = np.empty(25, dtype = object)\n",
    "for i in range(25):\n",
    "    c = np.zeros(4)\n",
    "    for a in range(4):\n",
    "        c[a] = 0.25\n",
    "    pi[i] = c\n",
    "    \n",
    "def getRewardAndNextStep(s,a):\n",
    "    if s == 1:\n",
    "        r = 10\n",
    "        s_strich = 21\n",
    "        return r, s_strich\n",
    "    elif s == 3:\n",
    "        r = 5\n",
    "        s_strich = 13\n",
    "        return r, s_strich\n",
    "    else:\n",
    "        r = 0 #game rule is: every move rewards 0, going out of bounds: -1\n",
    "    \n",
    "        if s == 0:  #links oben\n",
    "            if a == 0:  \n",
    "                s_strich = s\n",
    "                r = -1\n",
    "            elif a == 1:  \n",
    "                s_strich = s\n",
    "                r = -1\n",
    "            elif a == 2:  \n",
    "                s_strich = 1\n",
    "            elif a == 3:  \n",
    "                s_strich = 5\n",
    "        elif s < 4: #oben flanke\n",
    "            if a == 0:  \n",
    "                s_strich = s-1\n",
    "            elif a == 1:  \n",
    "                s_strich = s\n",
    "                r = -1\n",
    "            elif a == 2:  \n",
    "                s_strich = s+1\n",
    "            elif a == 3:  \n",
    "                s_strich = s+5\n",
    "        elif s == 4:       #rechts oben\n",
    "            if a == 0:  \n",
    "                s_strich = s-1\n",
    "            elif a == 1:  \n",
    "                s_strich = s\n",
    "                r = -1\n",
    "            elif a == 2:  \n",
    "                s_strich = s\n",
    "                r = -1\n",
    "            elif a == 3:  \n",
    "                s_strich = s+5\n",
    "        elif s == 5 or s == 10 or s == 15:  #links flanke\n",
    "            if a == 0:  \n",
    "                s_strich = s\n",
    "                r = -1\n",
    "            elif a == 1:  \n",
    "                s_strich = s-5\n",
    "            elif a == 2:  \n",
    "                s_strich = s+1\n",
    "            elif a == 3:  \n",
    "                s_strich = s+5\n",
    "        elif s == 9 or s == 14 or s == 19:  #rechts flanke\n",
    "            if a == 0:  \n",
    "                s_strich = s-1\n",
    "            elif a == 1:  \n",
    "                s_strich = s-5\n",
    "            elif a == 2:  \n",
    "                s_strich = s\n",
    "                r = -1\n",
    "            elif a == 3:  \n",
    "                s_strich = s+5\n",
    "        elif s < 19:  #mitte \n",
    "            if a == 0:  \n",
    "                s_strich = s-1\n",
    "            elif a == 1:  \n",
    "                s_strich = s-5\n",
    "            elif a == 2:  \n",
    "                s_strich = s+1\n",
    "            elif a == 3:  \n",
    "                s_strich = s+5   \n",
    "        elif s == 20:  #links unten\n",
    "            if a == 0:  \n",
    "                s_strich = s\n",
    "                r = -1\n",
    "            elif a == 1:  \n",
    "                s_strich = s-5\n",
    "            elif a == 2:  \n",
    "                s_strich = s+1\n",
    "            elif a == 3:  \n",
    "                s_strich = s\n",
    "                r = -1\n",
    "        elif s == 21 or s == 22 or s == 23: #unten flanke \n",
    "            if a == 0:  \n",
    "                s_strich = s-1\n",
    "            elif a == 1:  \n",
    "                s_strich = s-5\n",
    "            elif a == 2:  \n",
    "                s_strich = s+1\n",
    "            elif a == 3:  \n",
    "                s_strich = s\n",
    "                r = -1\n",
    "        elif s == 24:  #rechts unten\n",
    "            if a == 0:  \n",
    "                s_strich = s-1\n",
    "            elif a == 1:  \n",
    "                s_strich = s-5\n",
    "            elif a == 2:  \n",
    "                s_strich = s\n",
    "                r = -1\n",
    "            elif a == 3:  \n",
    "                s_strich = s \n",
    "                r = -1\n",
    "   \n",
    "        return r, s_strich #for given state and action\n",
    "\n",
    "#while(1):\n",
    "print(V.reshape((5, 5)))\n",
    "n = 0\n",
    "while 1:\n",
    "    delta = 0\n",
    "    for s in range(25):\n",
    "        v = V[s]\n",
    "\n",
    "        V_neu = 0\n",
    "        for a in range(4):\n",
    "            r, s_strich = getRewardAndNextStep(s,a)\n",
    "            V_neu += pi[s][a]*1*(r+gamma*V[s_strich])\n",
    "            \n",
    "        V[s] = V_neu\n",
    "        \n",
    "        if abs(v-V[s]) > delta:\n",
    "            delta = abs(v-V[s])\n",
    "        else:\n",
    "            delta = delta\n",
    "            \n",
    "    delta2[n] = delta\n",
    "    n +=1\n",
    "    if delta < Tetta:\n",
    "        break\n",
    "    \n",
    "print(V.reshape((5, 5)))\n",
    "\n",
    "x = range(16)\n",
    "plt.plot(x, delta2)"
   ]
  },
  {
   "cell_type": "markdown",
   "id": "ca41ce56",
   "metadata": {},
   "source": [
    "## b) use an alternative algorithm using two tables. One to store Vk and another to store Vk+1. After time step k+1 update tables: Vk+1 → Vk"
   ]
  },
  {
   "cell_type": "code",
   "execution_count": 11,
   "id": "8fafbc93",
   "metadata": {},
   "outputs": [
    {
     "name": "stdout",
     "output_type": "stream",
     "text": [
      "[[0. 0. 0. 0. 0.]\n",
      " [0. 0. 0. 0. 0.]\n",
      " [0. 0. 0. 0. 0.]\n",
      " [0. 0. 0. 0. 0.]\n",
      " [0. 0. 0. 0. 0.]]\n",
      "[[ 3.3642527   8.83796617  4.47327642  5.3646885   1.53355884]\n",
      " [ 1.57241864  3.03772788  2.29226842  1.94742555  0.5863129 ]\n",
      " [ 0.10062195  0.78265181  0.71440714  0.39761265 -0.36452959]\n",
      " [-0.92328755 -0.39077353 -0.3133516  -0.54580087 -1.14401374]\n",
      " [-1.80688029 -1.30019673 -1.18745802 -1.38279999 -1.9357796 ]]\n"
     ]
    },
    {
     "data": {
      "text/plain": [
       "[<matplotlib.lines.Line2D at 0x219eb0f2ac0>]"
      ]
     },
     "execution_count": 11,
     "metadata": {},
     "output_type": "execute_result"
    },
    {
     "data": {
      "image/png": "[encoded data removed]",
      "text/plain": [
       "<Figure size 432x288 with 1 Axes>"
      ]
     },
     "metadata": {
      "needs_background": "light"
     },
     "output_type": "display_data"
    }
   ],
   "source": [
    "import numpy as np\n",
    "import matplotlib.pyplot as plt\n",
    "\n",
    "N = 100\n",
    "Tetta = 0.01\n",
    "gamma = 0.9\n",
    "delta = 1000\n",
    "delta3 = np.zeros(16)\n",
    "\n",
    "#Init V(s) (25 differet states assigned as in Exercise paper sketch)\n",
    "V = np.zeros(25) \n",
    "V_kplus1 = np.zeros(25) \n",
    "\n",
    "#Init policy pi[s][p(action)] action = left top right bot\n",
    "pi = np.empty(25, dtype = object)\n",
    "for i in range(25):\n",
    "    c = np.zeros(4)\n",
    "    for a in range(4):\n",
    "        c[a] = 0.25\n",
    "    pi[i] = c\n",
    "    \n",
    "def getRewardAndNextStep(s,a):\n",
    "    if s == 1:\n",
    "        r = 10\n",
    "        s_strich = 21\n",
    "        return r, s_strich\n",
    "    elif s == 3:\n",
    "        r = 5\n",
    "        s_strich = 13\n",
    "        return r, s_strich\n",
    "    else:\n",
    "        r = 0 #game rule is: every move rewards 0, going out of bounds: -1\n",
    "    \n",
    "        if s == 0:  #links oben\n",
    "            if a == 0:  \n",
    "                s_strich = s\n",
    "                r = -1\n",
    "            elif a == 1:  \n",
    "                s_strich = s\n",
    "                r = -1\n",
    "            elif a == 2:  \n",
    "                s_strich = 1\n",
    "            elif a == 3:  \n",
    "                s_strich = 5\n",
    "        elif s < 4: #oben flanke\n",
    "            if a == 0:  \n",
    "                s_strich = s-1\n",
    "            elif a == 1:  \n",
    "                s_strich = s\n",
    "                r = -1\n",
    "            elif a == 2:  \n",
    "                s_strich = s+1\n",
    "            elif a == 3:  \n",
    "                s_strich = s+5\n",
    "        elif s == 4:       #rechts oben\n",
    "            if a == 0:  \n",
    "                s_strich = s-1\n",
    "            elif a == 1:  \n",
    "                s_strich = s\n",
    "                r = -1\n",
    "            elif a == 2:  \n",
    "                s_strich = s\n",
    "                r = -1\n",
    "            elif a == 3:  \n",
    "                s_strich = s+5\n",
    "        elif s == 5 or s == 10 or s == 15:  #links flanke\n",
    "            if a == 0:  \n",
    "                s_strich = s\n",
    "                r = -1\n",
    "            elif a == 1:  \n",
    "                s_strich = s-5\n",
    "            elif a == 2:  \n",
    "                s_strich = s+1\n",
    "            elif a == 3:  \n",
    "                s_strich = s+5\n",
    "        elif s == 9 or s == 14 or s == 19:  #rechts flanke\n",
    "            if a == 0:  \n",
    "                s_strich = s-1\n",
    "            elif a == 1:  \n",
    "                s_strich = s-5\n",
    "            elif a == 2:  \n",
    "                s_strich = s\n",
    "                r = -1\n",
    "            elif a == 3:  \n",
    "                s_strich = s+5\n",
    "        elif s < 19:  #mitte \n",
    "            if a == 0:  \n",
    "                s_strich = s-1\n",
    "            elif a == 1:  \n",
    "                s_strich = s-5\n",
    "            elif a == 2:  \n",
    "                s_strich = s+1\n",
    "            elif a == 3:  \n",
    "                s_strich = s+5   \n",
    "        elif s == 20:  #links unten\n",
    "            if a == 0:  \n",
    "                s_strich = s\n",
    "                r = -1\n",
    "            elif a == 1:  \n",
    "                s_strich = s-5\n",
    "            elif a == 2:  \n",
    "                s_strich = s+1\n",
    "            elif a == 3:  \n",
    "                s_strich = s\n",
    "                r = -1\n",
    "        elif s == 21 or s == 22 or s == 23: #unten flanke \n",
    "            if a == 0:  \n",
    "                s_strich = s-1\n",
    "            elif a == 1:  \n",
    "                s_strich = s-5\n",
    "            elif a == 2:  \n",
    "                s_strich = s+1\n",
    "            elif a == 3:  \n",
    "                s_strich = s\n",
    "                r = -1\n",
    "        elif s == 24:  #rechts unten\n",
    "            if a == 0:  \n",
    "                s_strich = s-1\n",
    "            elif a == 1:  \n",
    "                s_strich = s-5\n",
    "            elif a == 2:  \n",
    "                s_strich = s\n",
    "                r = -1\n",
    "            elif a == 3:  \n",
    "                s_strich = s \n",
    "                r = -1\n",
    "   \n",
    "        return r, s_strich #for given state and action\n",
    "\n",
    "#while(1):\n",
    "print(V.reshape((5, 5)))\n",
    "n = 0\n",
    "while 1:\n",
    "    delta = 0\n",
    "    for s in range(25):\n",
    "        v = V[s]\n",
    "\n",
    "        V_neu = 0\n",
    "        for a in range(4):\n",
    "            r, s_strich = getRewardAndNextStep(s,a)\n",
    "            V_neu += pi[s][a]*1*(r+gamma*V[s_strich])\n",
    "            \n",
    "        V_kplus1[s] = V_neu\n",
    "        \n",
    "        if abs(v-V_kplus1[s]) > delta:\n",
    "            delta = abs(v-V_kplus1[s])\n",
    "        else:\n",
    "            delta = delta\n",
    "    \n",
    "    V = V_kplus1\n",
    "    \n",
    "    delta3[n] = delta\n",
    "    n +=1\n",
    "    if delta < Tetta:\n",
    "        break\n",
    "    \n",
    "print(V.reshape((5, 5)))\n",
    "\n",
    "x = range(16)\n",
    "plt.plot(x, delta3)"
   ]
  },
  {
   "cell_type": "markdown",
   "id": "ba36df8b",
   "metadata": {},
   "source": [
    "## c) which one converges faster (i. e. reaches threshold Θ = 0.1 first). Make a plot: time step vs. DELTA for both algorithms.\n"
   ]
  },
  {
   "cell_type": "code",
   "execution_count": 12,
   "id": "73282dc4",
   "metadata": {},
   "outputs": [
    {
     "data": {
      "text/plain": [
       "[<matplotlib.lines.Line2D at 0x219eb13ca30>]"
      ]
     },
     "execution_count": 12,
     "metadata": {},
     "output_type": "execute_result"
    },
    {
     "data": {
      "image/png": "[encoded data removed]",
      "text/plain": [
       "<Figure size 432x288 with 1 Axes>"
      ]
     },
     "metadata": {
      "needs_background": "light"
     },
     "output_type": "display_data"
    }
   ],
   "source": [
    "plt.plot(x, delta2)\n",
    "plt.plot(x, delta3)"
   ]
  },
  {
   "cell_type": "markdown",
   "id": "8dd31b11",
   "metadata": {},
   "source": [
    "## d) why is the value function at position A below 10 and the value function at position B above 5?\n",
    "    Taking the random policy, transfering from A → A’ brings agent to the edge, where a penalty of -1 is given in ¼ of all times... Not true for B’ → B"
   ]
  },
  {
   "cell_type": "code",
   "execution_count": 13,
   "id": "12679f32",
   "metadata": {},
   "outputs": [
    {
     "name": "stdout",
     "output_type": "stream",
     "text": [
      "[[ 3.3642527   8.83796617  4.47327642  5.3646885   1.53355884]\n",
      " [ 1.57241864  3.03772788  2.29226842  1.94742555  0.5863129 ]\n",
      " [ 0.10062195  0.78265181  0.71440714  0.39761265 -0.36452959]\n",
      " [-0.92328755 -0.39077353 -0.3133516  -0.54580087 -1.14401374]\n",
      " [-1.80688029 -1.30019673 -1.18745802 -1.38279999 -1.9357796 ]]\n"
     ]
    }
   ],
   "source": [
    "print(V.reshape((5, 5)))"
   ]
  }
 ],
 "metadata": {
  "kernelspec": {
   "display_name": "Python 3 (ipykernel)",
   "language": "python",
   "name": "python3"
  },
  "language_info": {
   "codemirror_mode": {
    "name": "ipython",
    "version": 3
   },
   "file_extension": ".py",
   "mimetype": "text/x-python",
   "name": "python",
   "nbconvert_exporter": "python",
   "pygments_lexer": "ipython3",
   "version": "3.9.7"
  }
 },
 "nbformat": 4,
 "nbformat_minor": 5
}
