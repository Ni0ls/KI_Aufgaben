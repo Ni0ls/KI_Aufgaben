{
 "cells": [
  {
   "cell_type": "markdown",
   "id": "ad6c448e",
   "metadata": {},
   "source": [
    "# Reinforcement Learning 1: k-armed bandits"
   ]
  },
  {
   "cell_type": "code",
   "execution_count": 4,
   "id": "31f433d6",
   "metadata": {
    "scrolled": true
   },
   "outputs": [
    {
     "data": {
      "text/plain": [
       "<BarContainer object of 10 artists>"
      ]
     },
     "execution_count": 4,
     "metadata": {},
     "output_type": "execute_result"
    },
    {
     "data": {
      "image/png": "[encoded data removed]",
      "text/plain": [
       "<Figure size 432x288 with 1 Axes>"
      ]
     },
     "metadata": {
      "needs_background": "light"
     },
     "output_type": "display_data"
    }
   ],
   "source": [
    "import numpy as np\n",
    "import matplotlib.pyplot as plt\n",
    "\n",
    "#Parameter Bandits:\n",
    "mu = 0 #mean 0\n",
    "sigma = 1 #unit variance\n",
    "NrBandits = 10\n",
    "x_q = np.linspace(0,9,10)\n",
    "   \n",
    "def init_q_star(mu, sigma, Nr):\n",
    "    return np.random.normal(mu, sigma, Nr)\n",
    "\n",
    "class Bandit:    \n",
    "    def __init__(self, mu, sigma, NrBandits):\n",
    "        self.sigma = sigma\n",
    "        self.NrBandits = NrBandits\n",
    "        self.mu = mu\n",
    "        self.q_star = init_q_star(mu, sigma, NrBandits)\n",
    "\n",
    "    def calc_reward(self, qx):\n",
    "        qx = qx\n",
    "        return np.random.normal(self.q_star[qx], self.sigma, 1)\n",
    "Bandits = []\n",
    "for i in range(2000):\n",
    "    Bandits.append(Bandit(mu, sigma, NrBandits))\n",
    "plt.bar(x_q, Bandits[0].q_star)"
   ]
  },
  {
   "cell_type": "markdown",
   "id": "293492d9",
   "metadata": {},
   "source": [
    "## 1. Run 1000 time steps for the generated 10-armed bandit problems and action-value algorithms"
   ]
  },
  {
   "cell_type": "code",
   "execution_count": 7,
   "id": "1c86b67f",
   "metadata": {},
   "outputs": [
    {
     "data": {
      "text/plain": [
       "[<matplotlib.lines.Line2D at 0x1695b2fb1c0>]"
      ]
     },
     "execution_count": 7,
     "metadata": {},
     "output_type": "execute_result"
    },
    {
     "data": {
      "image/png": "[encoded data removed]",
      "text/plain": [
       "<Figure size 432x288 with 1 Axes>"
      ]
     },
     "metadata": {
      "needs_background": "light"
     },
     "output_type": "display_data"
    }
   ],
   "source": [
    "#Init Q, N = 0 for all qx:\n",
    "e = 0.05\n",
    "Q = [0 for i in range(10)]\n",
    "N = [0 for i in range(10)]\n",
    "R = [0 for i in range(2000)]\n",
    "R_avg = [0 for i in range(2000)]\n",
    "R_global = [0 for i in range(2000)]\n",
    "x_r = np.linspace(0,2000,2000)\n",
    "\n",
    "for j in range(2000):\n",
    "    Q = [0 for i in range(10)]\n",
    "    N = [0 for i in range(10)]\n",
    "    R = [0 for i in range(2000)]\n",
    "    R_avg = [0 for i in range(2000)]\n",
    "    k = 0\n",
    "    for i in range(2000):\n",
    "        k = k + 1\n",
    "        if (e < np.random.rand() or sum(Q[:]) == 0):\n",
    "            A = np.argmax(Q) #takes greedy action\n",
    "        else:\n",
    "            A = np.random.randint(0,10) #generates a random action a to choose the reward from: q(a)\n",
    "        R[i] = Bandits[j].calc_reward(A)\n",
    "        N[A] = N[A] + 1\n",
    "        Q[A] = Q[A] + 1/N[A]*(R[i]-Q[A])\n",
    "        R_avg[i] = R_avg[i-1]+1/k*(R[i]-R_avg[i-1])\n",
    "    k = 0\n",
    "    for i in range(2000):\n",
    "        k = k + 1\n",
    "        R_global[i] = R_global[i-1]+1/k*(R_avg[i]-R_global[i-1])\n",
    "    R_global = R_global/max(Bandits[j].q_star)\n",
    "\n",
    "plt.plot(x_r, R_global)"
   ]
  },
  {
   "cell_type": "code",
   "execution_count": 3,
   "id": "0ee57ab9",
   "metadata": {},
   "outputs": [
    {
     "name": "stdout",
     "output_type": "stream",
     "text": [
      "[0.93212341]\n"
     ]
    },
    {
     "data": {
      "text/plain": [
       "[<matplotlib.lines.Line2D at 0x1695b0fc160>]"
      ]
     },
     "execution_count": 3,
     "metadata": {},
     "output_type": "execute_result"
    },
    {
     "data": {
      "image/png": "[encoded data removed]",
      "text/plain": [
       "<Figure size 432x288 with 1 Axes>"
      ]
     },
     "metadata": {
      "needs_background": "light"
     },
     "output_type": "display_data"
    }
   ],
   "source": [
    "print(R_global[1999])\n",
    "plt.plot(x_r, R_global)"
   ]
  },
  {
   "cell_type": "code",
   "execution_count": 129,
   "id": "b442ec67",
   "metadata": {},
   "outputs": [
    {
     "data": {
      "text/plain": [
       "<BarContainer object of 10 artists>"
      ]
     },
     "execution_count": 129,
     "metadata": {},
     "output_type": "execute_result"
    },
    {
     "data": {
      "image/png": "[encoded data removed]",
      "text/plain": [
       "<Figure size 432x288 with 1 Axes>"
      ]
     },
     "metadata": {
      "needs_background": "light"
     },
     "output_type": "display_data"
    }
   ],
   "source": [
    "plt.bar(x_q, Bandits[0].q_star)"
   ]
  }
 ],
 "metadata": {
  "kernelspec": {
   "display_name": "Python 3 (ipykernel)",
   "language": "python",
   "name": "python3"
  },
  "language_info": {
   "codemirror_mode": {
    "name": "ipython",
    "version": 3
   },
   "file_extension": ".py",
   "mimetype": "text/x-python",
   "name": "python",
   "nbconvert_exporter": "python",
   "pygments_lexer": "ipython3",
   "version": "3.9.7"
  }
 },
 "nbformat": 4,
 "nbformat_minor": 5
}
