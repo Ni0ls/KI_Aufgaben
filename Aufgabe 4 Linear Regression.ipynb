{
 "cells": [
  {
   "cell_type": "markdown",
   "id": "d5a7588a",
   "metadata": {},
   "source": [
    "## Aufgabe 1 House Price Model (from Scratch)"
   ]
  },
  {
   "cell_type": "markdown",
   "id": "425d5ac4",
   "metadata": {},
   "source": [
    "# 1.1"
   ]
  },
  {
   "cell_type": "code",
   "execution_count": 1,
   "id": "00957f88",
   "metadata": {},
   "outputs": [
    {
     "name": "stdout",
     "output_type": "stream",
     "text": [
      "Prediction of regression model for test case: price = [[242.]]\n",
      "Equ.: y = [290.] + [-14.]*age + [1.]*area\n"
     ]
    }
   ],
   "source": [
    "import numpy as np\n",
    "from numpy.linalg import inv\n",
    "from numpy import dot\n",
    "\n",
    "#Inputs\n",
    "N=3\n",
    "Y = np.array([[300],[200],[250]])\n",
    "X = np.array([[1, 10, 150],\n",
    "              [1, 15, 120],\n",
    "              [1, 10, 100]])\n",
    "\n",
    "#PreCalc\n",
    "#X_T = X.T\n",
    "#X_Plus = dot(inv(dot(X_T,X)),X_T) #Moore-Penrose inverse of X\n",
    "X_Plus = inv(X.T @ X) @ X.T #Moore-Penrose inverse of X\n",
    "\n",
    "#CalcTetta^ (Model parameter fitting)\n",
    "Tetta = X_Plus @ Y #b, w_age, w_area\n",
    "\n",
    "#CalcTest\n",
    "X_test = np.array([[1, 12, 120]])\n",
    "Y_predict = X_test @ Tetta\n",
    "\n",
    "#Output\n",
    "print(\"Prediction of regression model for test case: price = \" + str(Y_predict))\n",
    "print(\"Equ.: y = \" + str(Tetta[0]) + \" + \" + str(Tetta[1]) + \"*age + \" + str(Tetta[2]) + \"*area\")"
   ]
  },
  {
   "cell_type": "markdown",
   "id": "115bd095",
   "metadata": {},
   "source": [
    "# 1.2"
   ]
  },
  {
   "cell_type": "code",
   "execution_count": 2,
   "id": "24ac846f",
   "metadata": {},
   "outputs": [
    {
     "name": "stdout",
     "output_type": "stream",
     "text": [
      "[[242.]]\n",
      "[[-14.   1.]]\n",
      "[290.]\n"
     ]
    }
   ],
   "source": [
    "import numpy as np\n",
    "from sklearn.linear_model import LinearRegression\n",
    "\n",
    "Y = np.array([[300],[200],[250]])\n",
    "X = np.array([[10, 150],\n",
    "              [15, 120],\n",
    "              [10, 100]])\n",
    "\n",
    "#Init Model and Fit to train Data (regression)\n",
    "model = LinearRegression().fit(X,Y)\n",
    "\n",
    "#Test and predict test case house price\n",
    "X_test = np.array([[12, 120]])\n",
    "Y_predict2 = model.predict(X_test)\n",
    "print(Y_predict2)\n",
    "\n",
    "#Model Tettas\n",
    "print(model.coef_) #Tetta1,2 weights \n",
    "print(model.intercept_) #Tetta0 bias"
   ]
  },
  {
   "cell_type": "markdown",
   "id": "63526f1a",
   "metadata": {},
   "source": [
    "# Aufgabe 2 Polynominal Features and Ridge Regression"
   ]
  },
  {
   "cell_type": "markdown",
   "id": "18cc6f3e",
   "metadata": {},
   "source": [
    "# 2.1"
   ]
  },
  {
   "cell_type": "code",
   "execution_count": 3,
   "id": "a7241108",
   "metadata": {},
   "outputs": [],
   "source": [
    "import numpy as np\n",
    "from sklearn.datasets import make_friedman2\n",
    "from sklearn.model_selection import train_test_split\n",
    "\n",
    "X, y = make_friedman2(n_samples=200000)\n",
    "X_train, X_test, y_train, y_test = train_test_split(X,y) #Default 3:1 split"
   ]
  },
  {
   "cell_type": "markdown",
   "id": "51c622b0",
   "metadata": {},
   "source": [
    "# 2.2 - 2.4"
   ]
  },
  {
   "cell_type": "code",
   "execution_count": 4,
   "id": "0947ef57",
   "metadata": {},
   "outputs": [],
   "source": [
    "from sklearn.linear_model import Ridge\n",
    "from sklearn.preprocessing import StandardScaler\n",
    "from sklearn.pipeline import make_pipeline\n",
    "\n",
    "pipe = make_pipeline(StandardScaler(), Ridge())"
   ]
  },
  {
   "cell_type": "code",
   "execution_count": 5,
   "id": "51570e4c",
   "metadata": {},
   "outputs": [],
   "source": [
    "#Model1 fit model with scaled train data and the ridge regesssion\n",
    "model1 = pipe.fit(X_train, y_train)\n",
    "score1 = model1.score(X_test, y_test)"
   ]
  },
  {
   "cell_type": "code",
   "execution_count": 6,
   "id": "6d5bb359",
   "metadata": {},
   "outputs": [
    {
     "name": "stdout",
     "output_type": "stream",
     "text": [
      "Model w/o poly     score: 0.867254380038913\n",
      "Model polydegree 1 score: 0.8684066855221766\n",
      "Model polydegree 2 score: 0.9998104316749203\n",
      "Model polydegree 3 score: 0.999933280269059\n",
      "Model polydegree 4 score: 0.999967370123568\n",
      "Model polydegree 5 score: 0.9999786603035874\n"
     ]
    }
   ],
   "source": [
    "from sklearn.preprocessing import PolynomialFeatures\n",
    "\n",
    "print(\"Model w/o poly     score: \" + str(score1))\n",
    "\n",
    "for i in range(1, 6, 1): \n",
    "    poly = PolynomialFeatures(i) #polydegree 1 == w/o poly extension\n",
    "    Xe = poly.fit_transform(X)\n",
    "    Xe_train, Xe_test, ye_train, ye_test = train_test_split(Xe,y) #Default 3:1 split\n",
    "\n",
    "    model2 = pipe.fit(Xe_train, ye_train)\n",
    "    score2 = model2.score(Xe_test, ye_test)\n",
    "    \n",
    "    print(\"Model polydegree \" + str(i) + \" score: \" + str(score2))\n"
   ]
  },
  {
   "cell_type": "code",
   "execution_count": null,
   "id": "150a3d53",
   "metadata": {},
   "outputs": [],
   "source": []
  }
 ],
 "metadata": {
  "kernelspec": {
   "display_name": "Python 3 (ipykernel)",
   "language": "python",
   "name": "python3"
  },
  "language_info": {
   "codemirror_mode": {
    "name": "ipython",
    "version": 3
   },
   "file_extension": ".py",
   "mimetype": "text/x-python",
   "name": "python",
   "nbconvert_exporter": "python",
   "pygments_lexer": "ipython3",
   "version": "3.9.7"
  }
 },
 "nbformat": 4,
 "nbformat_minor": 5
}
